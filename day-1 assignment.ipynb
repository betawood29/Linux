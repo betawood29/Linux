{
 "cells": [
  {
   "cell_type": "code",
   "execution_count": 3,
   "id": "3bea0901",
   "metadata": {},
   "outputs": [
    {
     "data": {
      "text/plain": [
       "array([-10,  -9,  -8,  -7,  -6,  -5,  -4,  -3,  -2,  -1,   0,   1,   2,\n",
       "         3,   4,   5,   6,   7,   8,   9])"
      ]
     },
     "execution_count": 3,
     "metadata": {},
     "output_type": "execute_result"
    }
   ],
   "source": [
    "import numpy as np\n",
    "\n",
    "#1. an array of int b/w -10 and 10\n",
    "arr=np.arange(-10,10)\n",
    "arr"
   ]
  },
  {
   "cell_type": "code",
   "execution_count": 14,
   "id": "f1b91a68",
   "metadata": {},
   "outputs": [
    {
     "name": "stdout",
     "output_type": "stream",
     "text": [
      "[ 4  6  8 10]\n",
      "[12 10  8  6  4]\n",
      "[20 19 18 17 16 15 14 13 12 11 10  9  8  7  6  5  4  3]\n"
     ]
    }
   ],
   "source": [
    "#2 Run the following code to create a NumPy array D\n",
    "#D = np.array(range(18)) + 3\n",
    "#(a) Extract every other value from array D starting from the 2nd value through the 10th value. Store the result in a variable called x.\n",
    "#(b) Extract every other value from array D starting from the 10th value through the 2nd value. Store the result in a variable called y.\n",
    "#(c) Create a variable z that contains all of the values in D in reverse order.\n",
    "\n",
    "D=np.array(range(18))+3\n",
    "x=D[1:9:2]\n",
    "y=D[9:0:-2]\n",
    "z=D[::-1]\n",
    "print(x)\n",
    "print(y)\n",
    "print(z)"
   ]
  },
  {
   "cell_type": "code",
   "execution_count": null,
   "id": "e56c3917",
   "metadata": {},
   "outputs": [],
   "source": [
    "#3 How are NumPy Arrays better than Lists in Python?  \n",
    "\n",
    "ans.Numpy arrays are capable of doing computations  faster than lists.\n",
    "Many built-in functions in numpy library make it easier to compute faster,save time \n",
    "with less lines of code which makes the code easy to read."
   ]
  },
  {
   "cell_type": "code",
   "execution_count": null,
   "id": "88264828",
   "metadata": {},
   "outputs": [],
   "source": [
    "#4 Explain the data types supported by Numpy. \n",
    "\n",
    "ans.ndarray i.e n-dimensional array."
   ]
  }
 ],
 "metadata": {
  "kernelspec": {
   "display_name": "Python 3",
   "language": "python",
   "name": "python3"
  },
  "language_info": {
   "codemirror_mode": {
    "name": "ipython",
    "version": 3
   },
   "file_extension": ".py",
   "mimetype": "text/x-python",
   "name": "python",
   "nbconvert_exporter": "python",
   "pygments_lexer": "ipython3",
   "version": "3.8.8"
  }
 },
 "nbformat": 4,
 "nbformat_minor": 5
}
